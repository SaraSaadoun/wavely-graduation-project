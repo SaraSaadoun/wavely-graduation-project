{
  "cells": [
    {
      "cell_type": "markdown",
      "metadata": {
        "id": "qHrWtu_g6QS3"
      },
      "source": [
        "# 1. Import and Install Dependencies"
      ]
    },
    {
      "cell_type": "code",
      "execution_count": null,
      "metadata": {
        "id": "5_cbaKPm6QS8"
      },
      "outputs": [],
      "source": [
        "!pip install tensorflow==2.4.1 tensorflow-gpu==2.4.1 opencv-python mediapipe sklearn matplotlib"
      ]
    },
    {
      "cell_type": "code",
      "execution_count": null,
      "metadata": {
        "id": "o1wkQ3EswQmR"
      },
      "outputs": [],
      "source": [
        "!pip install mediapipe"
      ]
    },
    {
      "cell_type": "code",
      "execution_count": null,
      "metadata": {
        "id": "ASWKwNA66QTB"
      },
      "outputs": [],
      "source": [
        "import cv2\n",
        "import numpy as np\n",
        "import os\n",
        "from matplotlib import pyplot as plt\n",
        "import time\n",
        "import mediapipe as mp\n",
        "import time , random\n",
        "import copy\n",
        "import glob\n",
        "from sklearn.model_selection import train_test_split\n",
        "import keras\n",
        "import tensorflow as tf\n",
        "from tensorflow.keras.utils import to_categorical\n",
        "from tensorflow.keras.models import Sequential\n",
        "from tensorflow.keras.layers import LSTM, Dense,Dropout,BatchNormalization,Input,Conv1D,MaxPooling1D,\\\n",
        "                                    TimeDistributed,Activation,Lambda,ReLU,Conv1D,ConvLSTM1D,Flatten\n",
        "from tensorflow.keras.callbacks import TensorBoard,ModelCheckpoint,EarlyStopping\n",
        "from tensorflow.keras import layers\n",
        "from sklearn.metrics import multilabel_confusion_matrix, accuracy_score,confusion_matrix\n",
        "from tensorflow.keras.optimizers import Adam,RMSprop\n",
        "from tensorflow.python.client import device_lib\n",
        "from tensorflow.keras.utils import plot_model\n",
        "from sklearn.metrics import multilabel_confusion_matrix, accuracy_score\n",
        "import seaborn as sns\n",
        "from scipy import stats"
      ]
    },
    {
      "cell_type": "markdown",
      "metadata": {
        "id": "GHtX4qb66QTD"
      },
      "source": [
        "# 2. Keypoints using MP Holistic"
      ]
    },
    {
      "cell_type": "code",
      "execution_count": null,
      "metadata": {
        "id": "tGSFMrfs6QTE"
      },
      "outputs": [],
      "source": [
        "mp_holistic = mp.solutions.holistic # Holistic model\n",
        "mp_drawing = mp.solutions.drawing_utils # Drawing utilities"
      ]
    },
    {
      "cell_type": "code",
      "execution_count": null,
      "metadata": {
        "id": "cPPua_6p6QTF"
      },
      "outputs": [],
      "source": [
        "def mediapipe_detection(image, model):\n",
        "    \"\"\"\n",
        "    inputs: CV2 Image\n",
        "    output: Image, detected Landmarks\n",
        "    \"\"\"\n",
        "\n",
        "    image = cv2.cvtColor(image, cv2.COLOR_BGR2RGB) # COLOR CONVERSION BGR 2 RGB\n",
        "    image.flags.writeable = False                  # Image is no longer writeable to Improve Perf.\n",
        "    results = model.process(image)                 # Make prediction\n",
        "    image.flags.writeable = True                   # Image is now writeable\n",
        "    image = cv2.cvtColor(image, cv2.COLOR_RGB2BGR) # COLOR COVERSION RGB 2 BGR\n",
        "    return image, results"
      ]
    },
    {
      "cell_type": "code",
      "execution_count": null,
      "metadata": {
        "id": "FIq6PFkV6QTG"
      },
      "outputs": [],
      "source": [
        "# Draw Landmarks on Image\n",
        "def draw_landmarks(image, results):\n",
        "    \"\"\"\n",
        "    inputs: CV2 Image , Landmarks[Model Results]\n",
        "    \"\"\"\n",
        "    mp_drawing.draw_landmarks(image, results.face_landmarks, mp_holistic.FACEMESH_TESSELATION) # Draw face connections\n",
        "    mp_drawing.draw_landmarks(image, results.pose_landmarks, mp_holistic.POSE_CONNECTIONS) # Draw pose connections\n",
        "    mp_drawing.draw_landmarks(image, results.left_hand_landmarks, mp_holistic.HAND_CONNECTIONS) # Draw left hand connections\n",
        "    mp_drawing.draw_landmarks(image, results.right_hand_landmarks, mp_holistic.HAND_CONNECTIONS) # Draw right hand connections"
      ]
    },
    {
      "cell_type": "code",
      "execution_count": null,
      "metadata": {
        "id": "-Ztv5XP66QTH"
      },
      "outputs": [],
      "source": [
        "def draw_styled_landmarks(image, results):\n",
        "    # Draw face connections\n",
        "    mp_drawing.draw_landmarks(image, results.face_landmarks, mp_holistic.FACEMESH_CONTOURS,\n",
        "                             mp_drawing.DrawingSpec(color=(80,110,10), thickness=1, circle_radius=1),\n",
        "                             mp_drawing.DrawingSpec(color=(80,256,121), thickness=1, circle_radius=1)\n",
        "                             )\n",
        "    # Draw pose connections\n",
        "    mp_drawing.draw_landmarks(image, results.pose_landmarks, mp_holistic.POSE_CONNECTIONS,\n",
        "                             mp_drawing.DrawingSpec(color=(80,22,10), thickness=2, circle_radius=4),\n",
        "                             mp_drawing.DrawingSpec(color=(80,44,121), thickness=2, circle_radius=2)\n",
        "                             )\n",
        "    # Draw left hand connections\n",
        "    mp_drawing.draw_landmarks(image, results.left_hand_landmarks, mp_holistic.HAND_CONNECTIONS,\n",
        "                             mp_drawing.DrawingSpec(color=(121,22,76), thickness=2, circle_radius=4),\n",
        "                             mp_drawing.DrawingSpec(color=(121,44,250), thickness=2, circle_radius=2)\n",
        "                             )\n",
        "    # Draw right hand connections\n",
        "    mp_drawing.draw_landmarks(image, results.right_hand_landmarks, mp_holistic.HAND_CONNECTIONS,\n",
        "                             mp_drawing.DrawingSpec(color=(245,117,66), thickness=2, circle_radius=4),\n",
        "                             mp_drawing.DrawingSpec(color=(245,66,230), thickness=2, circle_radius=2)\n",
        "                             )"
      ]
    },
    {
      "cell_type": "code",
      "execution_count": null,
      "metadata": {
        "id": "mELYofHu6QTI"
      },
      "outputs": [],
      "source": [
        "# Extract Keypoints from Landmarks And Concatenate it in One Array\n",
        "def extract_keypoints(results):\n",
        "    \"\"\"\n",
        "    inputs: Resutls from MediaPipe Model\n",
        "    output: Concatenated Landmarks\n",
        "    \"\"\"\n",
        "    pose = np.array([[res.x, res.y, res.z, res.visibility] for res in results.pose_landmarks.landmark]).flatten() if results.pose_landmarks else np.zeros(33*4)\n",
        "    face = np.array([[res.x, res.y, res.z] for res in results.face_landmarks.landmark]).flatten() if results.face_landmarks else np.zeros(468*3)\n",
        "    lh = np.array([[res.x, res.y, res.z] for res in results.left_hand_landmarks.landmark]).flatten() if results.left_hand_landmarks else np.zeros(21*3)\n",
        "    rh = np.array([[res.x, res.y, res.z] for res in results.right_hand_landmarks.landmark]).flatten() if results.right_hand_landmarks else np.zeros(21*3)\n",
        "    return np.concatenate([pose, face, lh, rh])"
      ]
    },
    {
      "cell_type": "code",
      "execution_count": null,
      "metadata": {
        "id": "kKkBTQU66QTJ"
      },
      "outputs": [],
      "source": [
        "# Extract Keypoints from Landmarks And Concatenate it in One Array\n",
        "def extract_keypoints_in_dict(results):\n",
        "    \"\"\"\n",
        "    inputs: Resutls from MediaPipe Model\n",
        "    output: Landmarks dictionary\n",
        "    \"\"\"\n",
        "\n",
        "    pose = np.array([[res] for res in results.pose_landmarks.landmark]).flatten() if results.pose_landmarks else np.zeros(33*4)\n",
        "    face = np.array([[res] for res in results.face_landmarks.landmark]).flatten() if results.face_landmarks else np.zeros(468*3)\n",
        "    lh = np.array([[res] for res in results.left_hand_landmarks.landmark]).flatten() if results.left_hand_landmarks else np.zeros(21*3)\n",
        "    rh = np.array([[res] for res in results.right_hand_landmarks.landmark]).flatten() if results.right_hand_landmarks else np.zeros(21*3)\n",
        "    return {\"pose\":pose, \"face\":face, \"left_hand\":lh, \"right_hand\":rh}"
      ]
    },
    {
      "cell_type": "code",
      "execution_count": null,
      "metadata": {
        "id": "s1Qu8QdF6QTP",
        "outputId": "182b41e1-9e77-4cac-c635-f4968bb12d07"
      },
      "outputs": [
        {
          "data": {
            "text/plain": [
              "{'drink': 0, 'eat': 1, 'goodbye': 2, 'hello': 3, 'help': 4, 'how are you': 5}"
            ]
          },
          "execution_count": 8,
          "metadata": {},
          "output_type": "execute_result"
        }
      ],
      "source": [
        "# Define our Actions\n",
        "# actions = np.array(['drink','eat','friend','goodbye','hello','help','how are you','no','yes','please','sorry','thanks','cry','i','they','you','what','name','teacher','family','happy','love','sad','laugh','neighbor','ok','read','write','school'])\n",
        "actions = np.array(['drink', 'eat', 'goodbye', 'hello', 'help', 'how are you'])"
      ]
    },
    {
      "cell_type": "markdown",
      "metadata": {
        "id": "rgIh0wVE5sG9"
      },
      "source": [
        "# 3. Preprocess Data and Create Labels and Features"
      ]
    },
    {
      "cell_type": "code",
      "execution_count": null,
      "metadata": {
        "id": "2_xtAYbg5K7f"
      },
      "outputs": [],
      "source": [
        "# DataPath of Data\n",
        "label_map = {label:num for num, label in enumerate(actions)}\n",
        "label_map"
      ]
    },
    {
      "cell_type": "markdown",
      "metadata": {
        "id": "jFO1TnYp5xK-"
      },
      "source": [
        "# 4. Load All Data"
      ]
    },
    {
      "cell_type": "code",
      "execution_count": null,
      "metadata": {
        "id": "AaPb8mcc6Rcu"
      },
      "outputs": [],
      "source": [
        "ROOT = '.'\n",
        "DATA_PATH_KEYPOINTS = os.path.join(ROOT, 'FINAL_DATA')"
      ]
    },
    {
      "cell_type": "code",
      "execution_count": null,
      "metadata": {
        "id": "EE734FGU6QTQ"
      },
      "outputs": [],
      "source": [
        "# Load Data 60 fps then Transform it to 30fps\n",
        "sequences1, labels1 = [], []\n",
        "for action in actions:\n",
        "    list_seq = glob.glob('/'.join([DATA_PATH_KEYPOINTS,'60FPS',action,'*']))\n",
        "    for sequence in list_seq:\n",
        "        window = []\n",
        "        # Take two Steps to Convert it To 30FPS\n",
        "        for frame_num in range(0,60,2):\n",
        "            #Load Frame Keypoints\n",
        "            res1 = np.load(os.path.join(sequence, \"{}.npy\".format(frame_num)))\n",
        "            #Take Hands Landmarks\n",
        "            lh_rh = res1[1536:]\n",
        "            #Remove z Axis From Landmarks\n",
        "            for z in range(2,lh_rh.shape[0],3):\n",
        "                    lh_rh[z] = None\n",
        "            #Remove NaN Data\n",
        "            lh_rh = lh_rh[np.logical_not(np.isnan(lh_rh))]\n",
        "            window.append(lh_rh)\n",
        "        sequences1.append(window)\n",
        "        labels1.append(label_map[action])"
      ]
    },
    {
      "cell_type": "code",
      "execution_count": null,
      "metadata": {
        "id": "9ai4_1gU6QTR",
        "outputId": "d947f412-6139-4e4d-c790-ff8d0e65c730"
      },
      "outputs": [
        {
          "data": {
            "text/plain": [
              "((354, 30, 84), (354, 6))"
            ]
          },
          "execution_count": 10,
          "metadata": {},
          "output_type": "execute_result"
        }
      ],
      "source": [
        "#Convert Lists To Array\n",
        "X2 = np.array(sequences1)\n",
        "#Convert Labels to OHE\n",
        "y2 = to_categorical(labels1).astype(int)\n",
        "X2.shape, y2.shape"
      ]
    },
    {
      "cell_type": "code",
      "execution_count": null,
      "metadata": {
        "id": "Wx_FhOge6QTR"
      },
      "outputs": [],
      "source": [
        "# Load 30 Fps Data Folder\n",
        "sequences, labels = [], []\n",
        "for action in actions:\n",
        "    list_seq = glob.glob('/'.join([DATA_PATH_KEYPOINTS,'30FPS',action,'*']))\n",
        "    for sequence in list_seq:\n",
        "        window = []\n",
        "        for frame_num in range(0,30):\n",
        "            #Load Frame Keypoints\n",
        "            res1 = np.load(os.path.join(str(sequence), \"{}.npy\".format(frame_num)))\n",
        "            # print(res1.shape)\n",
        "            #Take Hands Landmarks\n",
        "            lh_rh = res1[1536:]\n",
        "            #Remove z Axis From Landmarks\n",
        "            for z in range(2,lh_rh.shape[0],3):\n",
        "                    lh_rh[z] = None\n",
        "            #Remove NaN Data\n",
        "            lh_rh = lh_rh[np.logical_not(np.isnan(lh_rh))]\n",
        "            window.append(lh_rh)\n",
        "        sequences.append(window)\n",
        "        labels.append(label_map[action])"
      ]
    },
    {
      "cell_type": "code",
      "execution_count": null,
      "metadata": {
        "id": "fWqFQb0M6QTS",
        "outputId": "e11717a6-d571-4cf5-a0b9-c958739f5947"
      },
      "outputs": [
        {
          "data": {
            "text/plain": [
              "((594, 30, 84), (594, 6))"
            ]
          },
          "execution_count": 12,
          "metadata": {},
          "output_type": "execute_result"
        }
      ],
      "source": [
        "#Convert Lists To Array\n",
        "X1 = np.array(sequences)\n",
        "#Convert Labels to OHE\n",
        "y1 = to_categorical(labels).astype(int)\n",
        "X1.shape, y1.shape"
      ]
    },
    {
      "cell_type": "code",
      "execution_count": null,
      "metadata": {
        "id": "Ng4K9_U76QTT",
        "outputId": "3456daa1-e27a-4952-a2a0-3a24dec78512"
      },
      "outputs": [
        {
          "data": {
            "text/plain": [
              "((948, 30, 84), (948, 6))"
            ]
          },
          "execution_count": 13,
          "metadata": {},
          "output_type": "execute_result"
        }
      ],
      "source": [
        "# concatenate all data\n",
        "X = np.concatenate([X1,X2])\n",
        "y = np.concatenate([y1,y2])\n",
        "X.shape,y.shape"
      ]
    },
    {
      "cell_type": "code",
      "execution_count": null,
      "metadata": {
        "id": "749t8cwX6QTT"
      },
      "outputs": [],
      "source": [
        "# Rotation Augmentation\n",
        "def augment_data_rotataion(X,y):\n",
        "    '''\n",
        "    input: X,y  as numpy array Shape: [Samples,Timesteps,Features]\n",
        "    output: Augmented X,y as numpy array Shape:[Samples,Timesteps,Features]\n",
        "    '''\n",
        "    # Make an Array with Shape Like Original One\n",
        "    augmented_X = np.zeros_like(X)\n",
        "    augmented_y = np.zeros_like(y)\n",
        "\n",
        "    #Looping in all Examples\n",
        "    for ex in range(X.shape[0]):\n",
        "        # Get Random Angle Betwwen -5,5\n",
        "        rotation_angle = random.randint(-5,5)\n",
        "        # Convert it to Radians\n",
        "        theta = np.radians(rotation_angle)\n",
        "        c, s = np.cos(theta), np.sin(theta)\n",
        "        # Build a Rotation Matrix\n",
        "        rotation_matrix = np.array(((c, -s), (s, c)))\n",
        "        # Looping Each Frame\n",
        "        for frame in range(X.shape[1]):\n",
        "            window = []\n",
        "            # looping each Point within Frame\n",
        "            for i in range(0,X.shape[2]-1,2):\n",
        "                # Get Keypoint\n",
        "                keypoint = np.array([X[ex][frame][i],X[ex][frame][i+1]])\n",
        "                # Calculate Rotated Keypoint\n",
        "                rotated_keypoint = np.dot(rotation_matrix, keypoint)\n",
        "                keypoint_x = rotated_keypoint[0]\n",
        "                keypoint_y = rotated_keypoint[1]\n",
        "                # Append New Keypoint To our Data\n",
        "                window.extend([keypoint_x,keypoint_y])\n",
        "            augmented_X[ex][frame] = np.array(window)\n",
        "        augmented_y[ex] = y[ex]\n",
        "    return augmented_X,augmented_y"
      ]
    },
    {
      "cell_type": "code",
      "execution_count": null,
      "metadata": {
        "id": "15e9Duzw6QTU"
      },
      "outputs": [],
      "source": [
        "# Scale Augmentation\n",
        "def augment_data_scale(X,y):\n",
        "    '''\n",
        "    input: X,y  as numpy array Shape: [Samples,Timesteps,Features]\n",
        "    output: Augmented X,y as numpy array Shape: [Samples,Timesteps,Features]\n",
        "    '''\n",
        "    # Make an Array with Shape Like Original One\n",
        "    augmented_X = np.zeros_like(X)\n",
        "    augmented_y = np.zeros_like(y)\n",
        "    # Looping in Each Sample\n",
        "    for ex in range(X.shape[0]):\n",
        "        # Get Random Scale Factor\n",
        "        SCALE = round(random.random(),2)\n",
        "        for frame in range(X.shape[1]):\n",
        "            # Calculate New Point\n",
        "            augmented_X[ex][frame] = X[ex][frame]*SCALE\n",
        "        augmented_y[ex] = y[ex]\n",
        "    return augmented_X,augmented_y"
      ]
    },
    {
      "cell_type": "code",
      "execution_count": null,
      "metadata": {
        "id": "PzJywDWN6QTV"
      },
      "outputs": [],
      "source": [
        "# Augmented Rotated Data\n",
        "rot_x,rot_y = augment_data_rotataion(X,y)\n",
        "# Augmented Scaled Data\n",
        "scaled_x,scaled_y = augment_data_scale(X,y)"
      ]
    },
    {
      "cell_type": "code",
      "execution_count": null,
      "metadata": {
        "id": "rd0G2s7t6QTV"
      },
      "outputs": [],
      "source": [
        "# concatenate all data [Original and Augmented]\n",
        "X_ = np.concatenate([X,rot_x,scaled_x])\n",
        "y_ = np.concatenate([y,rot_y,scaled_y])\n",
        "X_.shape,y_.shape"
      ]
    },
    {
      "cell_type": "code",
      "execution_count": null,
      "metadata": {
        "id": "dgvkZg-H6QTW"
      },
      "outputs": [],
      "source": [
        "X_train, X_test, y_train, y_test = train_test_split(X_, y_, test_size=0.20,shuffle=True,stratify=y_,random_state=42)"
      ]
    },
    {
      "cell_type": "code",
      "execution_count": null,
      "metadata": {
        "id": "NEAqpXKT6QTX"
      },
      "outputs": [],
      "source": [
        "X_train.shape, X_test.shape, y_train.shape, y_test.shape"
      ]
    },
    {
      "cell_type": "markdown",
      "metadata": {
        "id": "mA_aMrUG6hTQ"
      },
      "source": [
        "# 5. Test Models"
      ]
    },
    {
      "cell_type": "code",
      "execution_count": null,
      "metadata": {
        "id": "dLE4qyhH6k_H"
      },
      "outputs": [],
      "source": [
        "MODELS_PATH = os.path.join(ROOT,'Models')"
      ]
    },
    {
      "cell_type": "markdown",
      "metadata": {
        "id": "5svhLpQz6QUI"
      },
      "source": [
        "## 5.1 LSTM"
      ]
    },
    {
      "cell_type": "code",
      "execution_count": null,
      "metadata": {
        "id": "aAOPi50S6QTY",
        "outputId": "a182577a-9e7c-45b5-fdc1-d174bd4ef83d"
      },
      "outputs": [
        {
          "name": "stdout",
          "output_type": "stream",
          "text": [
            "Model: \"sequential_7\"\n",
            "_________________________________________________________________\n",
            " Layer (type)                Output Shape              Param #   \n",
            "=================================================================\n",
            " lstm_15 (LSTM)              (None, 30, 64)            38144     \n",
            "                                                                 \n",
            " lstm_16 (LSTM)              (None, 30, 128)           98816     \n",
            "                                                                 \n",
            " lstm_17 (LSTM)              (None, 64)                49408     \n",
            "                                                                 \n",
            " dense_16 (Dense)            (None, 64)                4160      \n",
            "                                                                 \n",
            " dense_17 (Dense)            (None, 32)                2080      \n",
            "                                                                 \n",
            " dense_18 (Dense)            (None, 6)                 198       \n",
            "                                                                 \n",
            "=================================================================\n",
            "Total params: 192806 (753.15 KB)\n",
            "Trainable params: 192806 (753.15 KB)\n",
            "Non-trainable params: 0 (0.00 Byte)\n",
            "_________________________________________________________________\n"
          ]
        }
      ],
      "source": [
        "# Build a LSTM Model Arch\n",
        "timesteps=30; features=84\n",
        "model_lstm = Sequential()\n",
        "model_lstm.add(LSTM(64, return_sequences=True, activation='relu', input_shape=(timesteps,features))) # frames * Features\n",
        "model_lstm.add(LSTM(128, return_sequences=True, activation='relu'))\n",
        "model_lstm.add(LSTM(64, return_sequences=False, activation='relu'))\n",
        "model_lstm.add(Dense(64, activation='relu'))\n",
        "model_lstm.add(Dense(32, activation='relu'))\n",
        "model_lstm.add(Dense(len(actions), activation='softmax'))\n",
        "model_lstm.summary()"
      ]
    },
    {
      "cell_type": "code",
      "execution_count": null,
      "metadata": {
        "id": "ZSNLw3XH6QUI"
      },
      "outputs": [],
      "source": [
        "model_lstm.load_weights(os.path.join(MODELS_PATH, 'model_lstm.h5'))"
      ]
    },
    {
      "cell_type": "code",
      "execution_count": null,
      "metadata": {
        "id": "MuqED2936QUJ",
        "outputId": "cfce042d-22de-4cbd-b844-a0ebe49c2a20"
      },
      "outputs": [
        {
          "name": "stdout",
          "output_type": "stream",
          "text": [
            "18/18 [==============================] - 1s 45ms/step\n"
          ]
        }
      ],
      "source": [
        "yhat = model_lstm.predict(X_test)"
      ]
    },
    {
      "cell_type": "code",
      "execution_count": null,
      "metadata": {
        "id": "c6-au5QY6QUJ"
      },
      "outputs": [],
      "source": [
        "ytrue = np.argmax(y_test, axis=1).tolist()\n",
        "yhat = np.argmax(yhat, axis=1).tolist()"
      ]
    },
    {
      "cell_type": "code",
      "execution_count": null,
      "metadata": {
        "id": "sbkMxEuG6QUJ",
        "outputId": "d1c8ce39-ea9a-4a74-82bf-6687fa1d1f27"
      },
      "outputs": [
        {
          "data": {
            "text/plain": [
              "array([[[465,   9],\n",
              "        [  1,  94]],\n",
              "\n",
              "       [[474,   0],\n",
              "        [  7,  88]],\n",
              "\n",
              "       [[472,   2],\n",
              "        [  4,  91]],\n",
              "\n",
              "       [[468,   6],\n",
              "        [  5,  90]],\n",
              "\n",
              "       [[474,   0],\n",
              "        [  0,  95]],\n",
              "\n",
              "       [[475,   0],\n",
              "        [  0,  94]]], dtype=int64)"
            ]
          },
          "execution_count": 101,
          "metadata": {},
          "output_type": "execute_result"
        }
      ],
      "source": [
        "multilabel_confusion_matrix(ytrue, yhat)"
      ]
    },
    {
      "cell_type": "code",
      "execution_count": null,
      "metadata": {
        "id": "YD5mdxq16QUK",
        "outputId": "b4ec2b8c-3288-43eb-9595-039726900d3f"
      },
      "outputs": [
        {
          "data": {
            "text/plain": [
              "Text(0.5, 1.0, 'Test LSTM Confusion Matrix')"
            ]
          },
          "execution_count": 103,
          "metadata": {},
          "output_type": "execute_result"
        },
        {
          "data": {
            "image/png": "[encoded data removed]",
            "text/plain": [
              "<Figure size 800x600 with 2 Axes>"
            ]
          },
          "metadata": {},
          "output_type": "display_data"
        }
      ],
      "source": [
        "cm = confusion_matrix(ytrue, yhat)\n",
        "\n",
        "# Plot the heatmap\n",
        "plt.figure(figsize=(8, 6))  # Adjust the figure size as needed\n",
        "sns.heatmap(cm, annot=True, fmt=\".2f\", yticklabels=actions, xticklabels=actions)\n",
        "\n",
        "# Add title\n",
        "plt.title('Test LSTM Confusion Matrix')"
      ]
    },
    {
      "cell_type": "code",
      "execution_count": null,
      "metadata": {
        "id": "9Y00EjiN6QUK",
        "outputId": "7f0c55ed-eca9-4c52-b8d2-27c55194b165"
      },
      "outputs": [
        {
          "data": {
            "text/plain": [
              "0.9701230228471002"
            ]
          },
          "execution_count": 104,
          "metadata": {},
          "output_type": "execute_result"
        }
      ],
      "source": [
        "accuracy_score(ytrue, yhat)"
      ]
    },
    {
      "cell_type": "markdown",
      "metadata": {
        "id": "883YJEWs6QUM"
      },
      "source": [
        "## 5.2 Conv1D"
      ]
    },
    {
      "cell_type": "code",
      "execution_count": null,
      "metadata": {
        "id": "SfWi45Jm8jJK"
      },
      "outputs": [],
      "source": [
        "model_conv1d = Sequential()\n",
        "model_conv1d.add(Conv1D(filters=64, kernel_size=3, activation='relu', input_shape=(X_train.shape[1],X_train.shape[2])))\n",
        "model_conv1d.add(Conv1D(filters=64, kernel_size=3, activation='relu'))\n",
        "model_conv1d.add(Dropout(0.5))\n",
        "model_conv1d.add(MaxPooling1D(pool_size=2))\n",
        "model_conv1d.add(Flatten())\n",
        "model_conv1d.add(Dense(100, activation='relu'))\n",
        "model_conv1d.add(Dense(actions.shape[0], activation='softmax'))\n",
        "model_conv1d.compile(loss='categorical_crossentropy', optimizer='adam', metrics=['accuracy'])"
      ]
    },
    {
      "cell_type": "code",
      "execution_count": null,
      "metadata": {
        "id": "SxLP1fRh6QUM"
      },
      "outputs": [],
      "source": [
        "model_conv1d.load_weights(os.path.join(MODELS_PATH, 'model_conv1d.h5'))"
      ]
    },
    {
      "cell_type": "code",
      "execution_count": null,
      "metadata": {
        "id": "1z_MR1cG6QUN",
        "outputId": "bff62d64-e78d-4b01-cd0f-9c9344c33b39"
      },
      "outputs": [
        {
          "name": "stdout",
          "output_type": "stream",
          "text": [
            "18/18 [==============================] - 0s 4ms/step\n"
          ]
        }
      ],
      "source": [
        "yhat = model_conv1d.predict(X_test)"
      ]
    },
    {
      "cell_type": "code",
      "execution_count": null,
      "metadata": {
        "id": "gLXV-1Ed6QUN"
      },
      "outputs": [],
      "source": [
        "ytrue = np.argmax(y_test, axis=1).tolist()\n",
        "yhat = np.argmax(yhat, axis=1).tolist()"
      ]
    },
    {
      "cell_type": "code",
      "execution_count": null,
      "metadata": {
        "id": "MnCPTxvI6QUN",
        "outputId": "ff7f1f28-586e-451e-fc1c-cfa600348e30"
      },
      "outputs": [
        {
          "data": {
            "text/plain": [
              "array([[[474,   0],\n",
              "        [  0,  95]],\n",
              "\n",
              "       [[473,   1],\n",
              "        [  0,  95]],\n",
              "\n",
              "       [[474,   0],\n",
              "        [  1,  94]],\n",
              "\n",
              "       [[474,   0],\n",
              "        [  0,  95]],\n",
              "\n",
              "       [[473,   1],\n",
              "        [  0,  95]],\n",
              "\n",
              "       [[475,   0],\n",
              "        [  1,  93]]], dtype=int64)"
            ]
          },
          "execution_count": 120,
          "metadata": {},
          "output_type": "execute_result"
        }
      ],
      "source": [
        "multilabel_confusion_matrix(ytrue, yhat)"
      ]
    },
    {
      "cell_type": "code",
      "execution_count": null,
      "metadata": {
        "id": "Y7pZzYNz6QUO",
        "outputId": "150fdb63-79ec-4ba8-beca-abe91804596a"
      },
      "outputs": [
        {
          "data": {
            "text/plain": [
              "Text(0.5, 1.0, 'Test Conv1D Confusion Matrix')"
            ]
          },
          "execution_count": 121,
          "metadata": {},
          "output_type": "execute_result"
        },
        {
          "data": {
            "image/png": "[encoded data removed]",
            "text/plain": [
              "<Figure size 800x600 with 2 Axes>"
            ]
          },
          "metadata": {},
          "output_type": "display_data"
        }
      ],
      "source": [
        "cm = confusion_matrix(ytrue, yhat)\n",
        "\n",
        "# Plot the heatmap\n",
        "plt.figure(figsize=(8, 6))  # Adjust the figure size as needed\n",
        "sns.heatmap(cm, annot=True, fmt=\".2f\", yticklabels=actions, xticklabels=actions)\n",
        "\n",
        "# Add title\n",
        "plt.title('Test Conv1D Confusion Matrix')"
      ]
    },
    {
      "cell_type": "code",
      "execution_count": null,
      "metadata": {
        "id": "D8R5X04p6QUO",
        "outputId": "a54e4a47-e09f-40e7-ae19-b6eb411d93cd"
      },
      "outputs": [
        {
          "data": {
            "text/plain": [
              "0.9964850615114236"
            ]
          },
          "execution_count": 122,
          "metadata": {},
          "output_type": "execute_result"
        }
      ],
      "source": [
        "accuracy_score(ytrue, yhat)"
      ]
    },
    {
      "cell_type": "markdown",
      "metadata": {
        "id": "jJncUc436QUD"
      },
      "source": [
        "## 5.3 Transformer\n"
      ]
    },
    {
      "cell_type": "code",
      "execution_count": null,
      "metadata": {
        "id": "L0p3nly36QUD"
      },
      "outputs": [],
      "source": [
        "def transformer_encoder(inputs, head_size, num_heads, ff_dim, dropout=0):\n",
        "    # Normalization and Attention\n",
        "    x = layers.LayerNormalization(epsilon=1e-6)(inputs)\n",
        "    x = layers.MultiHeadAttention(\n",
        "        key_dim=head_size, num_heads=num_heads, dropout=dropout\n",
        "    )(x, x)\n",
        "    x = layers.Dropout(dropout)(x)\n",
        "    res = x + inputs\n",
        "\n",
        "    # Feed Forward Part\n",
        "    x = layers.LayerNormalization(epsilon=1e-6)(res)\n",
        "    x = layers.Conv1D(filters=ff_dim, kernel_size=1, activation=\"relu\")(x)\n",
        "    x = layers.Dropout(dropout)(x)\n",
        "    x = layers.Conv1D(filters=inputs.shape[-1], kernel_size=1)(x)\n",
        "    return x + res"
      ]
    },
    {
      "cell_type": "code",
      "execution_count": null,
      "metadata": {
        "id": "Y9mnBLkz6QUD"
      },
      "outputs": [],
      "source": [
        "def build_model(\n",
        "    input_shape,\n",
        "    head_size,\n",
        "    num_heads,\n",
        "    ff_dim,\n",
        "    num_transformer_blocks,\n",
        "    mlp_units,\n",
        "    dropout=0,\n",
        "    mlp_dropout=0,\n",
        "):\n",
        "    inputs = keras.Input(shape=input_shape)\n",
        "    x = inputs\n",
        "    for _ in range(num_transformer_blocks):\n",
        "        x = transformer_encoder(x, head_size, num_heads, ff_dim, dropout)\n",
        "\n",
        "    x = layers.GlobalAveragePooling1D(data_format=\"channels_first\")(x)\n",
        "    for dim in mlp_units:\n",
        "        x = layers.Dense(dim, activation=\"relu\")(x)\n",
        "        x = layers.Dropout(mlp_dropout)(x)\n",
        "    outputs = layers.Dense(actions.shape[0], activation=\"softmax\")(x)\n",
        "    return keras.Model(inputs, outputs)"
      ]
    },
    {
      "cell_type": "code",
      "execution_count": null,
      "metadata": {
        "id": "tKi6Kv_v6QUE"
      },
      "outputs": [],
      "source": [
        "input_shape = X_train.shape[1:]"
      ]
    },
    {
      "cell_type": "code",
      "execution_count": null,
      "metadata": {
        "id": "q9gjx8f-6QUE",
        "outputId": "4a4cf055-9eba-4381-d30d-1bb8d0553946"
      },
      "outputs": [
        {
          "name": "stdout",
          "output_type": "stream",
          "text": [
            "Model: \"model\"\n",
            "__________________________________________________________________________________________________\n",
            " Layer (type)                Output Shape                 Param #   Connected to                  \n",
            "==================================================================================================\n",
            " input_1 (InputLayer)        [(None, 30, 84)]             0         []                            \n",
            "                                                                                                  \n",
            " layer_normalization (Layer  (None, 30, 84)               168       ['input_1[0][0]']             \n",
            " Normalization)                                                                                   \n",
            "                                                                                                  \n",
            " multi_head_attention (Mult  (None, 30, 84)               347220    ['layer_normalization[0][0]', \n",
            " iHeadAttention)                                                     'layer_normalization[0][0]'] \n",
            "                                                                                                  \n",
            " dropout (Dropout)           (None, 30, 84)               0         ['multi_head_attention[0][0]']\n",
            "                                                                                                  \n",
            " tf.__operators__.add (TFOp  (None, 30, 84)               0         ['dropout[0][0]',             \n",
            " Lambda)                                                             'input_1[0][0]']             \n",
            "                                                                                                  \n",
            " layer_normalization_1 (Lay  (None, 30, 84)               168       ['tf.__operators__.add[0][0]']\n",
            " erNormalization)                                                                                 \n",
            "                                                                                                  \n",
            " conv1d (Conv1D)             (None, 30, 4)                340       ['layer_normalization_1[0][0]'\n",
            "                                                                    ]                             \n",
            "                                                                                                  \n",
            " dropout_1 (Dropout)         (None, 30, 4)                0         ['conv1d[0][0]']              \n",
            "                                                                                                  \n",
            " conv1d_1 (Conv1D)           (None, 30, 84)               420       ['dropout_1[0][0]']           \n",
            "                                                                                                  \n",
            " tf.__operators__.add_1 (TF  (None, 30, 84)               0         ['conv1d_1[0][0]',            \n",
            " OpLambda)                                                           'tf.__operators__.add[0][0]']\n",
            "                                                                                                  \n",
            " layer_normalization_2 (Lay  (None, 30, 84)               168       ['tf.__operators__.add_1[0][0]\n",
            " erNormalization)                                                   ']                            \n",
            "                                                                                                  \n",
            " multi_head_attention_1 (Mu  (None, 30, 84)               347220    ['layer_normalization_2[0][0]'\n",
            " ltiHeadAttention)                                                  , 'layer_normalization_2[0][0]\n",
            "                                                                    ']                            \n",
            "                                                                                                  \n",
            " dropout_2 (Dropout)         (None, 30, 84)               0         ['multi_head_attention_1[0][0]\n",
            "                                                                    ']                            \n",
            "                                                                                                  \n",
            " tf.__operators__.add_2 (TF  (None, 30, 84)               0         ['dropout_2[0][0]',           \n",
            " OpLambda)                                                           'tf.__operators__.add_1[0][0]\n",
            "                                                                    ']                            \n",
            "                                                                                                  \n",
            " layer_normalization_3 (Lay  (None, 30, 84)               168       ['tf.__operators__.add_2[0][0]\n",
            " erNormalization)                                                   ']                            \n",
            "                                                                                                  \n",
            " conv1d_2 (Conv1D)           (None, 30, 4)                340       ['layer_normalization_3[0][0]'\n",
            "                                                                    ]                             \n",
            "                                                                                                  \n",
            " dropout_3 (Dropout)         (None, 30, 4)                0         ['conv1d_2[0][0]']            \n",
            "                                                                                                  \n",
            " conv1d_3 (Conv1D)           (None, 30, 84)               420       ['dropout_3[0][0]']           \n",
            "                                                                                                  \n",
            " tf.__operators__.add_3 (TF  (None, 30, 84)               0         ['conv1d_3[0][0]',            \n",
            " OpLambda)                                                           'tf.__operators__.add_2[0][0]\n",
            "                                                                    ']                            \n",
            "                                                                                                  \n",
            " layer_normalization_4 (Lay  (None, 30, 84)               168       ['tf.__operators__.add_3[0][0]\n",
            " erNormalization)                                                   ']                            \n",
            "                                                                                                  \n",
            " multi_head_attention_2 (Mu  (None, 30, 84)               347220    ['layer_normalization_4[0][0]'\n",
            " ltiHeadAttention)                                                  , 'layer_normalization_4[0][0]\n",
            "                                                                    ']                            \n",
            "                                                                                                  \n",
            " dropout_4 (Dropout)         (None, 30, 84)               0         ['multi_head_attention_2[0][0]\n",
            "                                                                    ']                            \n",
            "                                                                                                  \n",
            " tf.__operators__.add_4 (TF  (None, 30, 84)               0         ['dropout_4[0][0]',           \n",
            " OpLambda)                                                           'tf.__operators__.add_3[0][0]\n",
            "                                                                    ']                            \n",
            "                                                                                                  \n",
            " layer_normalization_5 (Lay  (None, 30, 84)               168       ['tf.__operators__.add_4[0][0]\n",
            " erNormalization)                                                   ']                            \n",
            "                                                                                                  \n",
            " conv1d_4 (Conv1D)           (None, 30, 4)                340       ['layer_normalization_5[0][0]'\n",
            "                                                                    ]                             \n",
            "                                                                                                  \n",
            " dropout_5 (Dropout)         (None, 30, 4)                0         ['conv1d_4[0][0]']            \n",
            "                                                                                                  \n",
            " conv1d_5 (Conv1D)           (None, 30, 84)               420       ['dropout_5[0][0]']           \n",
            "                                                                                                  \n",
            " tf.__operators__.add_5 (TF  (None, 30, 84)               0         ['conv1d_5[0][0]',            \n",
            " OpLambda)                                                           'tf.__operators__.add_4[0][0]\n",
            "                                                                    ']                            \n",
            "                                                                                                  \n",
            " layer_normalization_6 (Lay  (None, 30, 84)               168       ['tf.__operators__.add_5[0][0]\n",
            " erNormalization)                                                   ']                            \n",
            "                                                                                                  \n",
            " multi_head_attention_3 (Mu  (None, 30, 84)               347220    ['layer_normalization_6[0][0]'\n",
            " ltiHeadAttention)                                                  , 'layer_normalization_6[0][0]\n",
            "                                                                    ']                            \n",
            "                                                                                                  \n",
            " dropout_6 (Dropout)         (None, 30, 84)               0         ['multi_head_attention_3[0][0]\n",
            "                                                                    ']                            \n",
            "                                                                                                  \n",
            " tf.__operators__.add_6 (TF  (None, 30, 84)               0         ['dropout_6[0][0]',           \n",
            " OpLambda)                                                           'tf.__operators__.add_5[0][0]\n",
            "                                                                    ']                            \n",
            "                                                                                                  \n",
            " layer_normalization_7 (Lay  (None, 30, 84)               168       ['tf.__operators__.add_6[0][0]\n",
            " erNormalization)                                                   ']                            \n",
            "                                                                                                  \n",
            " conv1d_6 (Conv1D)           (None, 30, 4)                340       ['layer_normalization_7[0][0]'\n",
            "                                                                    ]                             \n",
            "                                                                                                  \n",
            " dropout_7 (Dropout)         (None, 30, 4)                0         ['conv1d_6[0][0]']            \n",
            "                                                                                                  \n",
            " conv1d_7 (Conv1D)           (None, 30, 84)               420       ['dropout_7[0][0]']           \n",
            "                                                                                                  \n",
            " tf.__operators__.add_7 (TF  (None, 30, 84)               0         ['conv1d_7[0][0]',            \n",
            " OpLambda)                                                           'tf.__operators__.add_6[0][0]\n",
            "                                                                    ']                            \n",
            "                                                                                                  \n",
            " global_average_pooling1d (  (None, 30)                   0         ['tf.__operators__.add_7[0][0]\n",
            " GlobalAveragePooling1D)                                            ']                            \n",
            "                                                                                                  \n",
            " dense (Dense)               (None, 128)                  3968      ['global_average_pooling1d[0][\n",
            "                                                                    0]']                          \n",
            "                                                                                                  \n",
            " dropout_8 (Dropout)         (None, 128)                  0         ['dense[0][0]']               \n",
            "                                                                                                  \n",
            " dense_1 (Dense)             (None, 6)                    774       ['dropout_8[0][0]']           \n",
            "                                                                                                  \n",
            "==================================================================================================\n",
            "Total params: 1398006 (5.33 MB)\n",
            "Trainable params: 1398006 (5.33 MB)\n",
            "Non-trainable params: 0 (0.00 Byte)\n",
            "__________________________________________________________________________________________________\n"
          ]
        }
      ],
      "source": [
        "model_transformer = build_model(\n",
        "    input_shape,\n",
        "    head_size=256,\n",
        "    num_heads=4,\n",
        "    ff_dim=4,\n",
        "    num_transformer_blocks=4,\n",
        "    mlp_units=[128],\n",
        "    mlp_dropout=0.4,\n",
        "    dropout=0.25,\n",
        ")\n",
        "model_transformer.summary()"
      ]
    },
    {
      "cell_type": "code",
      "execution_count": null,
      "metadata": {
        "id": "1R808v3f6QUE"
      },
      "outputs": [],
      "source": [
        "model_transformer.compile(\n",
        "    loss=\"categorical_crossentropy\",\n",
        "    optimizer=Adam(learning_rate=1e-5),\n",
        "    metrics=[\"categorical_accuracy\"],\n",
        ")"
      ]
    },
    {
      "cell_type": "code",
      "execution_count": null,
      "metadata": {
        "id": "HSYHui9Y6QUF"
      },
      "outputs": [],
      "source": [
        "model_transformer.load_weights(os.path.join(MODELS_PATH, 'model_transformer.h5'))"
      ]
    },
    {
      "cell_type": "code",
      "execution_count": null,
      "metadata": {
        "id": "FxzvrOSc9Xp9"
      },
      "outputs": [],
      "source": [
        "yhat = model_transformer.predict(X_test)"
      ]
    },
    {
      "cell_type": "code",
      "execution_count": null,
      "metadata": {
        "id": "oF6rcbxn9Xp9"
      },
      "outputs": [],
      "source": [
        "ytrue = np.argmax(y_test, axis=1).tolist()\n",
        "yhat = np.argmax(yhat, axis=1).tolist()"
      ]
    },
    {
      "cell_type": "code",
      "execution_count": null,
      "metadata": {
        "id": "XEFG3VQH9Xp9"
      },
      "outputs": [],
      "source": [
        "multilabel_confusion_matrix(ytrue, yhat)"
      ]
    },
    {
      "cell_type": "code",
      "execution_count": null,
      "metadata": {
        "id": "aSQoVJtS9Xp9"
      },
      "outputs": [],
      "source": [
        "cm = confusion_matrix(ytrue, yhat)\n",
        "\n",
        "# Plot the heatmap\n",
        "plt.figure(figsize=(8, 6))  # Adjust the figure size as needed\n",
        "sns.heatmap(cm, annot=True, fmt=\".2f\", yticklabels=actions, xticklabels=actions)\n",
        "\n",
        "# Add title\n",
        "plt.title('Test Transformer Confusion Matrix')"
      ]
    },
    {
      "cell_type": "code",
      "execution_count": null,
      "metadata": {
        "id": "HV8jIFM79Xp-",
        "outputId": "a54e4a47-e09f-40e7-ae19-b6eb411d93cd"
      },
      "outputs": [
        {
          "data": {
            "text/plain": [
              "0.9964850615114236"
            ]
          },
          "execution_count": 122,
          "metadata": {},
          "output_type": "execute_result"
        }
      ],
      "source": [
        "accuracy_score(ytrue, yhat)"
      ]
    },
    {
      "cell_type": "markdown",
      "metadata": {
        "id": "WfhD4hY56QTx"
      },
      "source": [
        "# 6. Test in Real Time"
      ]
    },
    {
      "cell_type": "code",
      "execution_count": null,
      "metadata": {
        "id": "ldyRdwGv6QTy"
      },
      "outputs": [],
      "source": [
        "colors = [(245,117,16), (117,245,16), (16,117,245), (255, 0, 0), (0, 255, 0), (0, 0, 255)] #NOTE: No. of colors = No. of action\n",
        "def prob_viz(res, actions, input_frame, colors):\n",
        "    output_frame = input_frame.copy()\n",
        "    for num, prob in enumerate(res):\n",
        "        print(actions[num], prob)\n",
        "        cv2.rectangle(output_frame, (0,60+num*40), (int(prob*100), 90+num*40), colors[num], -1)\n",
        "        cv2.putText(output_frame, f\"{actions[num]}: {prob*100:.2f}%\", (0, 85+num*40), cv2.FONT_HERSHEY_SIMPLEX, 0.5, (255,255,255), 1, cv2.LINE_AA)\n",
        "\n",
        "    return output_frame\n"
      ]
    },
    {
      "cell_type": "code",
      "execution_count": null,
      "metadata": {
        "id": "CflV01uE6QTy"
      },
      "outputs": [],
      "source": [
        "plt.figure(figsize=(18,18))\n",
        "plt.imshow(prob_viz(res, actions, image, colors))"
      ]
    },
    {
      "cell_type": "code",
      "execution_count": null,
      "metadata": {
        "id": "pBdgW4V66QTz"
      },
      "outputs": [],
      "source": [
        "sequence = []\n",
        "sentence = []\n",
        "predictions = []\n",
        "threshold = 0.5\n",
        "\n",
        "cap = cv2.VideoCapture(0)\n",
        "with mp_holistic.Holistic(min_detection_confidence=0.5, min_tracking_confidence=0.5) as holistic:\n",
        "    while cap.isOpened():\n",
        "        ret, frame = cap.read()\n",
        "        image, results = mediapipe_detection(frame, holistic)\n",
        "        draw_styled_landmarks(image, results)\n",
        "\n",
        "        keypoints = extract_keypoints(results)\n",
        "\n",
        "        lh_rh = keypoints[1536:]\n",
        "        #Remove z Axis From Landmarks\n",
        "        for z in range(2,lh_rh.shape[0],3):\n",
        "            lh_rh[z] = None\n",
        "        #Remove NaN Data\n",
        "        lh_rh = lh_rh[np.logical_not(np.isnan(lh_rh))]\n",
        "        sequence.append(lh_rh)\n",
        "        sequence = sequence[-30:]\n",
        "\n",
        "        if len(sequence) == 30:\n",
        "            # Convert sequence to numpy array\n",
        "            sequence_array = np.array(sequence)\n",
        "\n",
        "            # Reshape sequence_array to match model input shape\n",
        "            sequence_array = np.expand_dims(sequence_array, axis=0)  # Add batch dimension\n",
        "            sequence_array = sequence_array.reshape((1, 30, -1))  # Reshape to (1, 30, features)\n",
        "            res = model.predict(sequence_array)[0]\n",
        "            print(\"res\", res)\n",
        "            predictions.append(np.argmax(res))\n",
        "\n",
        "            if np.unique(predictions[-10:])[0] == np.argmax(res):\n",
        "                if res[np.argmax(res)] > threshold:\n",
        "                    if len(sentence) > 0:\n",
        "                        if actions[np.argmax(res)] != sentence[-1]:\n",
        "                            sentence.append(actions[np.argmax(res)])\n",
        "                    else:\n",
        "                        sentence.append(actions[np.argmax(res)])\n",
        "\n",
        "            if len(sentence) > 5:\n",
        "                sentence = sentence[-5:]\n",
        "\n",
        "            image = prob_viz(res, actions, image, colors)\n",
        "\n",
        "        cv2.rectangle(image, (0,0), (640, 40), (245, 117, 16), -1)\n",
        "        cv2.putText(image, ' '.join(sentence), (3,30),\n",
        "                    cv2.FONT_HERSHEY_SIMPLEX, 1, (255, 255, 255), 2, cv2.LINE_AA)\n",
        "\n",
        "        cv2.imshow('OpenCV Feed', image)\n",
        "\n",
        "        if cv2.waitKey(10) & 0xFF == ord('q'):\n",
        "            break\n",
        "\n",
        "    cap.release()\n",
        "    cv2.destroyAllWindows()"
      ]
    },
    {
      "cell_type": "markdown",
      "metadata": {
        "id": "VCJ7wo3P6QUC"
      },
      "source": [
        "# 7. Test From video"
      ]
    },
    {
      "cell_type": "code",
      "execution_count": null,
      "metadata": {
        "id": "YElDpM7Y-O89"
      },
      "outputs": [],
      "source": [
        "video_path = os.path.join(ROOT, 'drink.mp4')"
      ]
    },
    {
      "cell_type": "code",
      "execution_count": null,
      "metadata": {
        "id": "yoWWCnr-6QUC"
      },
      "outputs": [],
      "source": [
        "# Initialize MediaPipe\n",
        "mp_holistic = mp.solutions.holistic\n",
        "holistic = mp_holistic.Holistic(min_detection_confidence=0.5, min_tracking_confidence=0.5)\n",
        "\n",
        "# Load the model and define other necessary variables\n",
        "sequence = []\n",
        "sentence = []\n",
        "predictions = []\n",
        "threshold = 0.5\n",
        "\n",
        "# Load the video file\n",
        "cap = cv2.VideoCapture(video_path)\n",
        "start_time = time.time()\n",
        "print('start')\n",
        "print(\"total frames count: \",int(cap.get(cv2.CAP_PROP_FRAME_COUNT)))\n",
        "while cap.isOpened():\n",
        "    # Read a frame from the video\n",
        "    ret, frame = cap.read()\n",
        "\n",
        "    # If there are no more frames, break the loop\n",
        "    if not ret:\n",
        "        print(\"No more frames. Exiting loop.\")\n",
        "        break\n",
        "\n",
        "    # print(\"Frame read successfully.\")\n",
        "\n",
        "    # Make detections\n",
        "    with mp_holistic.Holistic(min_detection_confidence=0.5, min_tracking_confidence=0.5) as holistic:\n",
        "        image, results = mediapipe_detection(frame, holistic)\n",
        "        # print(\"Detections made.\")\n",
        "\n",
        "    # Prediction logic\n",
        "    keypoints = extract_keypoints(results)\n",
        "    lh_rh = keypoints[1536:]\n",
        "    #Remove z Axis From Landmarks\n",
        "    for z in range(2,lh_rh.shape[0],3):\n",
        "        lh_rh[z] = None\n",
        "    #Remove NaN Data\n",
        "    lh_rh = lh_rh[np.logical_not(np.isnan(lh_rh))]\n",
        "    sequence.append(lh_rh)\n",
        "    sequence = sequence[-30:]\n",
        "    # print(\"keypoints extracted.\")\n",
        "    if len(sequence) == 30:\n",
        "        res = model_lstm.predict(np.expand_dims(sequence, axis=0))[0]\n",
        "        print(f\"Model prediction made. {actions[np.argmax(res)]}\")\n",
        "        predictions.append(np.argmax(res))\n",
        "\n",
        "        if np.unique(predictions[-10:])[0] == np.argmax(res):\n",
        "            if res[np.argmax(res)] > threshold:\n",
        "                if len(sentence) > 0:\n",
        "                    if actions[np.argmax(res)] != sentence[-1]:\n",
        "                        sentence.append(actions[np.argmax(res)])\n",
        "                else:\n",
        "                    sentence.append(actions[np.argmax(res)])\n",
        "        # sequence = []\n",
        "        # if len(sentence) > 5:\n",
        "        #     sentence = sentence[-5:]\n",
        "\n",
        "\n",
        "\n",
        "# Calculate elapsed time\n",
        "end_time = time.time()\n",
        "elapsed_time = end_time - start_time\n",
        "print(\"Total time taken: {:.2f} seconds\".format(elapsed_time))\n",
        "# Release the video capture object and close all windows\n",
        "cap.release()\n",
        "cv2.destroyAllWindows()\n"
      ]
    },
    {
      "cell_type": "code",
      "execution_count": null,
      "metadata": {
        "id": "kxwPY8OL6QUC"
      },
      "outputs": [],
      "source": [
        "sentence"
      ]
    }
  ],
  "metadata": {
    "colab": {
      "provenance": [],
      "toc_visible": true
    },
    "kernelspec": {
      "display_name": "Python 3",
      "language": "python",
      "name": "python3"
    },
    "language_info": {
      "codemirror_mode": {
        "name": "ipython",
        "version": 3
      },
      "file_extension": ".py",
      "mimetype": "text/x-python",
      "name": "python",
      "nbconvert_exporter": "python",
      "pygments_lexer": "ipython3",
      "version": "3.8.0"
    }
  },
  "nbformat": 4,
  "nbformat_minor": 0
}
